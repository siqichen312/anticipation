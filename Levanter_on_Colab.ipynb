{
  "cells": [
    {
      "cell_type": "markdown",
      "metadata": {
        "id": "view-in-github",
        "colab_type": "text"
      },
      "source": [
        "<a href=\"https://colab.research.google.com/github/siqichen312/anticipation/blob/main/Levanter_on_Colab.ipynb\" target=\"_parent\"><img src=\"https://colab.research.google.com/assets/colab-badge.svg\" alt=\"Open In Colab\"/></a>"
      ]
    },
    {
      "cell_type": "markdown",
      "source": [
        "**/!\\ IMPORTANT!! MAKE SURE THAT YOU ARE USING A GPU INSTANCE (NOT A CPU, NOT A TPU) /!\\**"
      ],
      "metadata": {
        "id": "KBGFTWO0jJaP"
      }
    },
    {
      "cell_type": "code",
      "execution_count": 1,
      "metadata": {
        "colab": {
          "base_uri": "https://localhost:8080/"
        },
        "id": "ebUqRjWloJSl",
        "outputId": "9fe761d5-bf90-4872-a21d-866526971e39"
      },
      "outputs": [
        {
          "output_type": "stream",
          "name": "stdout",
          "text": [
            "Mounted at /content/drive\n"
          ]
        }
      ],
      "source": [
        "# prompt: mount to google drive\n",
        "\n",
        "from google.colab import drive\n",
        "drive.mount('/content/drive')"
      ]
    },
    {
      "cell_type": "markdown",
      "metadata": {
        "id": "65XhHjD4KlkJ"
      },
      "source": [
        "# Clone Levanter repo"
      ]
    },
    {
      "cell_type": "code",
      "execution_count": 2,
      "metadata": {
        "id": "UybkxzZAKhcC",
        "outputId": "92727834-f7ab-4681-c132-a6209de9ec06",
        "colab": {
          "base_uri": "https://localhost:8080/"
        }
      },
      "outputs": [
        {
          "output_type": "stream",
          "name": "stdout",
          "text": [
            "Cloning into 'levanterForAnticipation'...\n",
            "remote: Enumerating objects: 6480, done.\u001b[K\n",
            "remote: Counting objects: 100% (1/1), done.\u001b[K\n",
            "remote: Total 6480 (delta 0), reused 0 (delta 0), pack-reused 6479 (from 2)\u001b[K\n",
            "Receiving objects: 100% (6480/6480), 6.00 MiB | 25.93 MiB/s, done.\n",
            "Resolving deltas: 100% (4270/4270), done.\n"
          ]
        }
      ],
      "source": [
        "!git clone https://github.com/lancelotblanchard/levanterForAnticipation.git"
      ]
    },
    {
      "cell_type": "markdown",
      "metadata": {
        "id": "HBklxokJpxGv"
      },
      "source": [
        "# Install Levanter + Dependencies"
      ]
    },
    {
      "cell_type": "code",
      "source": [
        "# Install Levanter + Dependencies\n",
        "!pip install -e /content/levanterForAnticipation\n",
        "!pip install -U \"jax[cuda12_pip]\"==0.4.18 optax==0.1.7 scipy==1.11.3 haliax==1.2 -f https://storage.googleapis.com/jax-releases/jax_cuda_releases.html\n",
        "\n",
        "# Install cuDNN\n",
        "!apt install --allow-change-held-packages libcudnn8=8.9.7.29-1+cuda12.2"
      ],
      "metadata": {
        "id": "8xJLA5vl8I0o",
        "outputId": "3110b883-9e14-40a9-ac74-d984a35d60c9",
        "colab": {
          "base_uri": "https://localhost:8080/"
        }
      },
      "execution_count": 3,
      "outputs": [
        {
          "output_type": "stream",
          "name": "stdout",
          "text": [
            "Obtaining file:///content/levanterForAnticipation\n",
            "  Installing build dependencies ... \u001b[?25l\u001b[?25hdone\n",
            "  Checking if build backend supports build_editable ... \u001b[?25l\u001b[?25hdone\n",
            "  Getting requirements to build editable ... \u001b[?25l\u001b[?25hdone\n",
            "  Installing backend dependencies ... \u001b[?25l\u001b[?25hdone\n",
            "  Preparing editable metadata (pyproject.toml) ... \u001b[?25l\u001b[?25hdone\n",
            "Collecting haliax@ git+https://github.com/stanford-crfm/haliax.git (from levanter==1.1)\n",
            "  Cloning https://github.com/stanford-crfm/haliax.git to /tmp/pip-install-o350wkqr/haliax_056a62cf103d47f0b0600f5252b9b4d1\n",
            "  Running command git clone --filter=blob:none --quiet https://github.com/stanford-crfm/haliax.git /tmp/pip-install-o350wkqr/haliax_056a62cf103d47f0b0600f5252b9b4d1\n",
            "  Resolved https://github.com/stanford-crfm/haliax.git to commit af29b9e5ed08056250300df7bc1e908e9a1ba8de\n",
            "  Installing build dependencies ... \u001b[?25l\u001b[?25hdone\n",
            "  Getting requirements to build wheel ... \u001b[?25l\u001b[?25hdone\n",
            "  Preparing metadata (pyproject.toml) ... \u001b[?25l\u001b[?25hdone\n",
            "Collecting braceexpand>=0.1.7 (from levanter==1.1)\n",
            "  Downloading braceexpand-0.1.7-py2.py3-none-any.whl.metadata (3.0 kB)\n",
            "Collecting dataclasses-json (from levanter==1.1)\n",
            "  Downloading dataclasses_json-0.6.7-py3-none-any.whl.metadata (25 kB)\n",
            "Collecting datasets==2.11.0 (from levanter==1.1)\n",
            "  Downloading datasets-2.11.0-py3-none-any.whl.metadata (20 kB)\n",
            "Collecting draccus>=0.6 (from levanter==1.1)\n",
            "  Downloading draccus-0.11.5-py3-none-any.whl.metadata (22 kB)\n",
            "Collecting equinox>=0.10.7 (from levanter==1.1)\n",
            "  Downloading equinox-0.12.2-py3-none-any.whl.metadata (18 kB)\n",
            "Collecting fsspec<2023.10.0 (from levanter==1.1)\n",
            "  Downloading fsspec-2023.9.2-py3-none-any.whl.metadata (6.7 kB)\n",
            "Collecting gcsfs<2023.10.0 (from levanter==1.1)\n",
            "  Downloading gcsfs-2023.9.2-py2.py3-none-any.whl.metadata (1.6 kB)\n",
            "Collecting humanfriendly==10.0 (from levanter==1.1)\n",
            "  Downloading humanfriendly-10.0-py2.py3-none-any.whl.metadata (9.2 kB)\n",
            "Collecting jaxtyping>=0.2.20 (from levanter==1.1)\n",
            "  Downloading jaxtyping-0.3.2-py3-none-any.whl.metadata (7.0 kB)\n",
            "Collecting jmp>=0.0.3 (from levanter==1.1)\n",
            "  Downloading jmp-0.0.4-py3-none-any.whl.metadata (8.9 kB)\n",
            "Requirement already satisfied: matplotlib>=3.7.0 in /usr/local/lib/python3.11/dist-packages (from levanter==1.1) (3.10.0)\n",
            "Requirement already satisfied: optax in /usr/local/lib/python3.11/dist-packages (from levanter==1.1) (0.2.4)\n",
            "Requirement already satisfied: pyarrow>=11.0.0 in /usr/local/lib/python3.11/dist-packages (from levanter==1.1) (18.1.0)\n",
            "Collecting pydantic<2 (from levanter==1.1)\n",
            "  Downloading pydantic-1.10.22-cp311-cp311-manylinux_2_17_x86_64.manylinux2014_x86_64.whl.metadata (154 kB)\n",
            "\u001b[2K     \u001b[90m━━━━━━━━━━━━━━━━━━━━━━━━━━━━━━━━━━━━━━\u001b[0m \u001b[32m154.1/154.1 kB\u001b[0m \u001b[31m10.8 MB/s\u001b[0m eta \u001b[36m0:00:00\u001b[0m\n",
            "\u001b[?25hCollecting pytimeparse>=1.1.8 (from levanter==1.1)\n",
            "  Downloading pytimeparse-1.1.8-py2.py3-none-any.whl.metadata (3.4 kB)\n",
            "Collecting ray[default] (from levanter==1.1)\n",
            "  Downloading ray-2.46.0-cp311-cp311-manylinux2014_x86_64.whl.metadata (19 kB)\n",
            "Requirement already satisfied: rich>=13 in /usr/local/lib/python3.11/dist-packages (from levanter==1.1) (13.9.4)\n",
            "Requirement already satisfied: safetensors[numpy] in /usr/local/lib/python3.11/dist-packages (from levanter==1.1) (0.5.3)\n",
            "Collecting tblib<2.0.0,>=1.7.0 (from levanter==1.1)\n",
            "  Downloading tblib-1.7.0-py2.py3-none-any.whl.metadata (24 kB)\n",
            "Collecting tensorstore==0.1.45 (from levanter==1.1)\n",
            "  Downloading tensorstore-0.1.45-cp311-cp311-manylinux_2_17_x86_64.manylinux2014_x86_64.whl.metadata (2.9 kB)\n",
            "Requirement already satisfied: transformers>=4.22.0 in /usr/local/lib/python3.11/dist-packages (from levanter==1.1) (4.51.3)\n",
            "Requirement already satisfied: wandb in /usr/local/lib/python3.11/dist-packages (from levanter==1.1) (0.19.11)\n",
            "Requirement already satisfied: zstandard>=0.20.0 in /usr/local/lib/python3.11/dist-packages (from levanter==1.1) (0.23.0)\n",
            "Requirement already satisfied: numpy>=1.17 in /usr/local/lib/python3.11/dist-packages (from datasets==2.11.0->levanter==1.1) (2.0.2)\n",
            "Collecting dill<0.3.7,>=0.3.0 (from datasets==2.11.0->levanter==1.1)\n",
            "  Downloading dill-0.3.6-py3-none-any.whl.metadata (9.8 kB)\n",
            "Requirement already satisfied: pandas in /usr/local/lib/python3.11/dist-packages (from datasets==2.11.0->levanter==1.1) (2.2.2)\n",
            "Requirement already satisfied: requests>=2.19.0 in /usr/local/lib/python3.11/dist-packages (from datasets==2.11.0->levanter==1.1) (2.32.3)\n",
            "Requirement already satisfied: tqdm>=4.62.1 in /usr/local/lib/python3.11/dist-packages (from datasets==2.11.0->levanter==1.1) (4.67.1)\n",
            "Requirement already satisfied: xxhash in /usr/local/lib/python3.11/dist-packages (from datasets==2.11.0->levanter==1.1) (3.5.0)\n",
            "Requirement already satisfied: multiprocess in /usr/local/lib/python3.11/dist-packages (from datasets==2.11.0->levanter==1.1) (0.70.15)\n",
            "Requirement already satisfied: aiohttp in /usr/local/lib/python3.11/dist-packages (from datasets==2.11.0->levanter==1.1) (3.11.15)\n",
            "Requirement already satisfied: huggingface-hub<1.0.0,>=0.11.0 in /usr/local/lib/python3.11/dist-packages (from datasets==2.11.0->levanter==1.1) (0.31.2)\n",
            "Requirement already satisfied: packaging in /usr/local/lib/python3.11/dist-packages (from datasets==2.11.0->levanter==1.1) (24.2)\n",
            "Collecting responses<0.19 (from datasets==2.11.0->levanter==1.1)\n",
            "  Downloading responses-0.18.0-py3-none-any.whl.metadata (29 kB)\n",
            "Requirement already satisfied: pyyaml>=5.1 in /usr/local/lib/python3.11/dist-packages (from datasets==2.11.0->levanter==1.1) (6.0.2)\n",
            "Collecting mergedeep~=1.3 (from draccus>=0.6->levanter==1.1)\n",
            "  Downloading mergedeep-1.3.4-py3-none-any.whl.metadata (4.3 kB)\n",
            "Collecting pyyaml-include~=1.4 (from draccus>=0.6->levanter==1.1)\n",
            "  Downloading pyyaml_include-1.4.1-py3-none-any.whl.metadata (1.3 kB)\n",
            "Requirement already satisfied: toml~=0.10 in /usr/local/lib/python3.11/dist-packages (from draccus>=0.6->levanter==1.1) (0.10.2)\n",
            "Collecting typing-inspect~=0.9.0 (from draccus>=0.6->levanter==1.1)\n",
            "  Downloading typing_inspect-0.9.0-py3-none-any.whl.metadata (1.5 kB)\n",
            "Requirement already satisfied: jax>=0.4.38 in /usr/local/lib/python3.11/dist-packages (from equinox>=0.10.7->levanter==1.1) (0.5.2)\n",
            "Requirement already satisfied: typing-extensions>=4.5.0 in /usr/local/lib/python3.11/dist-packages (from equinox>=0.10.7->levanter==1.1) (4.13.2)\n",
            "Collecting wadler-lindig>=0.1.0 (from equinox>=0.10.7->levanter==1.1)\n",
            "  Downloading wadler_lindig-0.1.6-py3-none-any.whl.metadata (17 kB)\n",
            "Requirement already satisfied: decorator>4.1.2 in /usr/local/lib/python3.11/dist-packages (from gcsfs<2023.10.0->levanter==1.1) (4.4.2)\n",
            "Requirement already satisfied: google-auth>=1.2 in /usr/local/lib/python3.11/dist-packages (from gcsfs<2023.10.0->levanter==1.1) (2.38.0)\n",
            "Requirement already satisfied: google-auth-oauthlib in /usr/local/lib/python3.11/dist-packages (from gcsfs<2023.10.0->levanter==1.1) (1.2.2)\n",
            "Requirement already satisfied: google-cloud-storage in /usr/local/lib/python3.11/dist-packages (from gcsfs<2023.10.0->levanter==1.1) (2.19.0)\n",
            "Requirement already satisfied: contourpy>=1.0.1 in /usr/local/lib/python3.11/dist-packages (from matplotlib>=3.7.0->levanter==1.1) (1.3.2)\n",
            "Requirement already satisfied: cycler>=0.10 in /usr/local/lib/python3.11/dist-packages (from matplotlib>=3.7.0->levanter==1.1) (0.12.1)\n",
            "Requirement already satisfied: fonttools>=4.22.0 in /usr/local/lib/python3.11/dist-packages (from matplotlib>=3.7.0->levanter==1.1) (4.58.0)\n",
            "Requirement already satisfied: kiwisolver>=1.3.1 in /usr/local/lib/python3.11/dist-packages (from matplotlib>=3.7.0->levanter==1.1) (1.4.8)\n",
            "Requirement already satisfied: pillow>=8 in /usr/local/lib/python3.11/dist-packages (from matplotlib>=3.7.0->levanter==1.1) (11.2.1)\n",
            "Requirement already satisfied: pyparsing>=2.3.1 in /usr/local/lib/python3.11/dist-packages (from matplotlib>=3.7.0->levanter==1.1) (3.2.3)\n",
            "Requirement already satisfied: python-dateutil>=2.7 in /usr/local/lib/python3.11/dist-packages (from matplotlib>=3.7.0->levanter==1.1) (2.9.0.post0)\n",
            "Requirement already satisfied: markdown-it-py>=2.2.0 in /usr/local/lib/python3.11/dist-packages (from rich>=13->levanter==1.1) (3.0.0)\n",
            "Requirement already satisfied: pygments<3.0.0,>=2.13.0 in /usr/local/lib/python3.11/dist-packages (from rich>=13->levanter==1.1) (2.19.1)\n",
            "Requirement already satisfied: filelock in /usr/local/lib/python3.11/dist-packages (from transformers>=4.22.0->levanter==1.1) (3.18.0)\n",
            "Requirement already satisfied: regex!=2019.12.17 in /usr/local/lib/python3.11/dist-packages (from transformers>=4.22.0->levanter==1.1) (2024.11.6)\n",
            "Requirement already satisfied: tokenizers<0.22,>=0.21 in /usr/local/lib/python3.11/dist-packages (from transformers>=4.22.0->levanter==1.1) (0.21.1)\n",
            "Collecting marshmallow<4.0.0,>=3.18.0 (from dataclasses-json->levanter==1.1)\n",
            "  Downloading marshmallow-3.26.1-py3-none-any.whl.metadata (7.3 kB)\n",
            "Collecting aqtp>=0.8.2 (from haliax@ git+https://github.com/stanford-crfm/haliax.git->levanter==1.1)\n",
            "  Downloading aqtp-0.8.4-py3-none-any.whl.metadata (17 kB)\n",
            "Requirement already satisfied: absl-py>=0.7.1 in /usr/local/lib/python3.11/dist-packages (from optax->levanter==1.1) (1.4.0)\n",
            "Requirement already satisfied: chex>=0.1.87 in /usr/local/lib/python3.11/dist-packages (from optax->levanter==1.1) (0.1.89)\n",
            "Requirement already satisfied: jaxlib>=0.4.27 in /usr/local/lib/python3.11/dist-packages (from optax->levanter==1.1) (0.5.1)\n",
            "Requirement already satisfied: etils[epy] in /usr/local/lib/python3.11/dist-packages (from optax->levanter==1.1) (1.12.2)\n",
            "Requirement already satisfied: click>=7.0 in /usr/local/lib/python3.11/dist-packages (from ray[default]->levanter==1.1) (8.2.0)\n",
            "Requirement already satisfied: jsonschema in /usr/local/lib/python3.11/dist-packages (from ray[default]->levanter==1.1) (4.23.0)\n",
            "Requirement already satisfied: msgpack<2.0.0,>=1.0.0 in /usr/local/lib/python3.11/dist-packages (from ray[default]->levanter==1.1) (1.1.0)\n",
            "Requirement already satisfied: protobuf!=3.19.5,>=3.15.3 in /usr/local/lib/python3.11/dist-packages (from ray[default]->levanter==1.1) (5.29.4)\n",
            "Collecting aiohttp_cors (from ray[default]->levanter==1.1)\n",
            "  Downloading aiohttp_cors-0.8.1-py3-none-any.whl.metadata (20 kB)\n",
            "Collecting colorful (from ray[default]->levanter==1.1)\n",
            "  Downloading colorful-0.5.6-py2.py3-none-any.whl.metadata (16 kB)\n",
            "Collecting py-spy>=0.2.0 (from ray[default]->levanter==1.1)\n",
            "  Downloading py_spy-0.4.0-py2.py3-none-manylinux_2_5_x86_64.manylinux1_x86_64.whl.metadata (16 kB)\n",
            "Requirement already satisfied: grpcio>=1.42.0 in /usr/local/lib/python3.11/dist-packages (from ray[default]->levanter==1.1) (1.71.0)\n",
            "Collecting opencensus (from ray[default]->levanter==1.1)\n",
            "  Downloading opencensus-0.11.4-py2.py3-none-any.whl.metadata (12 kB)\n",
            "Requirement already satisfied: prometheus_client>=0.7.1 in /usr/local/lib/python3.11/dist-packages (from ray[default]->levanter==1.1) (0.21.1)\n",
            "Requirement already satisfied: smart_open in /usr/local/lib/python3.11/dist-packages (from ray[default]->levanter==1.1) (7.1.0)\n",
            "Collecting virtualenv!=20.21.1,>=20.0.24 (from ray[default]->levanter==1.1)\n",
            "  Downloading virtualenv-20.31.2-py3-none-any.whl.metadata (4.5 kB)\n",
            "Requirement already satisfied: docker-pycreds>=0.4.0 in /usr/local/lib/python3.11/dist-packages (from wandb->levanter==1.1) (0.4.0)\n",
            "Requirement already satisfied: gitpython!=3.1.29,>=1.0.0 in /usr/local/lib/python3.11/dist-packages (from wandb->levanter==1.1) (3.1.44)\n",
            "Requirement already satisfied: platformdirs in /usr/local/lib/python3.11/dist-packages (from wandb->levanter==1.1) (4.3.8)\n",
            "Requirement already satisfied: psutil>=5.0.0 in /usr/local/lib/python3.11/dist-packages (from wandb->levanter==1.1) (5.9.5)\n",
            "Requirement already satisfied: sentry-sdk>=2.0.0 in /usr/local/lib/python3.11/dist-packages (from wandb->levanter==1.1) (2.28.0)\n",
            "Requirement already satisfied: setproctitle in /usr/local/lib/python3.11/dist-packages (from wandb->levanter==1.1) (1.3.6)\n",
            "Requirement already satisfied: setuptools in /usr/local/lib/python3.11/dist-packages (from wandb->levanter==1.1) (75.2.0)\n",
            "Requirement already satisfied: aiohappyeyeballs>=2.3.0 in /usr/local/lib/python3.11/dist-packages (from aiohttp->datasets==2.11.0->levanter==1.1) (2.6.1)\n",
            "Requirement already satisfied: aiosignal>=1.1.2 in /usr/local/lib/python3.11/dist-packages (from aiohttp->datasets==2.11.0->levanter==1.1) (1.3.2)\n",
            "Requirement already satisfied: attrs>=17.3.0 in /usr/local/lib/python3.11/dist-packages (from aiohttp->datasets==2.11.0->levanter==1.1) (25.3.0)\n",
            "Requirement already satisfied: frozenlist>=1.1.1 in /usr/local/lib/python3.11/dist-packages (from aiohttp->datasets==2.11.0->levanter==1.1) (1.6.0)\n",
            "Requirement already satisfied: multidict<7.0,>=4.5 in /usr/local/lib/python3.11/dist-packages (from aiohttp->datasets==2.11.0->levanter==1.1) (6.4.3)\n",
            "Requirement already satisfied: propcache>=0.2.0 in /usr/local/lib/python3.11/dist-packages (from aiohttp->datasets==2.11.0->levanter==1.1) (0.3.1)\n",
            "Requirement already satisfied: yarl<2.0,>=1.17.0 in /usr/local/lib/python3.11/dist-packages (from aiohttp->datasets==2.11.0->levanter==1.1) (1.20.0)\n",
            "Requirement already satisfied: flax in /usr/local/lib/python3.11/dist-packages (from aqtp>=0.8.2->haliax@ git+https://github.com/stanford-crfm/haliax.git->levanter==1.1) (0.10.6)\n",
            "Requirement already satisfied: toolz>=0.9.0 in /usr/local/lib/python3.11/dist-packages (from chex>=0.1.87->optax->levanter==1.1) (0.12.1)\n",
            "Requirement already satisfied: six>=1.4.0 in /usr/local/lib/python3.11/dist-packages (from docker-pycreds>=0.4.0->wandb->levanter==1.1) (1.17.0)\n",
            "Requirement already satisfied: gitdb<5,>=4.0.1 in /usr/local/lib/python3.11/dist-packages (from gitpython!=3.1.29,>=1.0.0->wandb->levanter==1.1) (4.0.12)\n",
            "Requirement already satisfied: cachetools<6.0,>=2.0.0 in /usr/local/lib/python3.11/dist-packages (from google-auth>=1.2->gcsfs<2023.10.0->levanter==1.1) (5.5.2)\n",
            "Requirement already satisfied: pyasn1-modules>=0.2.1 in /usr/local/lib/python3.11/dist-packages (from google-auth>=1.2->gcsfs<2023.10.0->levanter==1.1) (0.4.2)\n",
            "Requirement already satisfied: rsa<5,>=3.1.4 in /usr/local/lib/python3.11/dist-packages (from google-auth>=1.2->gcsfs<2023.10.0->levanter==1.1) (4.9.1)\n",
            "Requirement already satisfied: ml_dtypes>=0.4.0 in /usr/local/lib/python3.11/dist-packages (from jax>=0.4.38->equinox>=0.10.7->levanter==1.1) (0.4.1)\n",
            "Requirement already satisfied: opt_einsum in /usr/local/lib/python3.11/dist-packages (from jax>=0.4.38->equinox>=0.10.7->levanter==1.1) (3.4.0)\n",
            "Requirement already satisfied: scipy>=1.11.1 in /usr/local/lib/python3.11/dist-packages (from jax>=0.4.38->equinox>=0.10.7->levanter==1.1) (1.15.3)\n",
            "Requirement already satisfied: mdurl~=0.1 in /usr/local/lib/python3.11/dist-packages (from markdown-it-py>=2.2.0->rich>=13->levanter==1.1) (0.1.2)\n",
            "Requirement already satisfied: charset-normalizer<4,>=2 in /usr/local/lib/python3.11/dist-packages (from requests>=2.19.0->datasets==2.11.0->levanter==1.1) (3.4.2)\n",
            "Requirement already satisfied: idna<4,>=2.5 in /usr/local/lib/python3.11/dist-packages (from requests>=2.19.0->datasets==2.11.0->levanter==1.1) (3.10)\n",
            "Requirement already satisfied: urllib3<3,>=1.21.1 in /usr/local/lib/python3.11/dist-packages (from requests>=2.19.0->datasets==2.11.0->levanter==1.1) (2.4.0)\n",
            "Requirement already satisfied: certifi>=2017.4.17 in /usr/local/lib/python3.11/dist-packages (from requests>=2.19.0->datasets==2.11.0->levanter==1.1) (2025.4.26)\n",
            "Collecting mypy-extensions>=0.3.0 (from typing-inspect~=0.9.0->draccus>=0.6->levanter==1.1)\n",
            "  Downloading mypy_extensions-1.1.0-py3-none-any.whl.metadata (1.1 kB)\n",
            "Collecting distlib<1,>=0.3.7 (from virtualenv!=20.21.1,>=20.0.24->ray[default]->levanter==1.1)\n",
            "  Downloading distlib-0.3.9-py2.py3-none-any.whl.metadata (5.2 kB)\n",
            "Requirement already satisfied: requests-oauthlib>=0.7.0 in /usr/local/lib/python3.11/dist-packages (from google-auth-oauthlib->gcsfs<2023.10.0->levanter==1.1) (2.0.0)\n",
            "Requirement already satisfied: google-api-core<3.0.0dev,>=2.15.0 in /usr/local/lib/python3.11/dist-packages (from google-cloud-storage->gcsfs<2023.10.0->levanter==1.1) (2.24.2)\n",
            "Requirement already satisfied: google-cloud-core<3.0dev,>=2.3.0 in /usr/local/lib/python3.11/dist-packages (from google-cloud-storage->gcsfs<2023.10.0->levanter==1.1) (2.4.3)\n",
            "Requirement already satisfied: google-resumable-media>=2.7.2 in /usr/local/lib/python3.11/dist-packages (from google-cloud-storage->gcsfs<2023.10.0->levanter==1.1) (2.7.2)\n",
            "Requirement already satisfied: google-crc32c<2.0dev,>=1.0 in /usr/local/lib/python3.11/dist-packages (from google-cloud-storage->gcsfs<2023.10.0->levanter==1.1) (1.7.1)\n",
            "Requirement already satisfied: jsonschema-specifications>=2023.03.6 in /usr/local/lib/python3.11/dist-packages (from jsonschema->ray[default]->levanter==1.1) (2025.4.1)\n",
            "Requirement already satisfied: referencing>=0.28.4 in /usr/local/lib/python3.11/dist-packages (from jsonschema->ray[default]->levanter==1.1) (0.36.2)\n",
            "Requirement already satisfied: rpds-py>=0.7.1 in /usr/local/lib/python3.11/dist-packages (from jsonschema->ray[default]->levanter==1.1) (0.24.0)\n",
            "INFO: pip is looking at multiple versions of multiprocess to determine which version is compatible with other requirements. This could take a while.\n",
            "Collecting multiprocess (from datasets==2.11.0->levanter==1.1)\n",
            "  Downloading multiprocess-0.70.18-py311-none-any.whl.metadata (7.5 kB)\n",
            "  Downloading multiprocess-0.70.17-py311-none-any.whl.metadata (7.2 kB)\n",
            "  Downloading multiprocess-0.70.16-py311-none-any.whl.metadata (7.2 kB)\n",
            "  Downloading multiprocess-0.70.14-py310-none-any.whl.metadata (6.6 kB)\n",
            "Collecting opencensus-context>=0.1.3 (from opencensus->ray[default]->levanter==1.1)\n",
            "  Downloading opencensus_context-0.1.3-py2.py3-none-any.whl.metadata (3.3 kB)\n",
            "Requirement already satisfied: pytz>=2020.1 in /usr/local/lib/python3.11/dist-packages (from pandas->datasets==2.11.0->levanter==1.1) (2025.2)\n",
            "Requirement already satisfied: tzdata>=2022.7 in /usr/local/lib/python3.11/dist-packages (from pandas->datasets==2.11.0->levanter==1.1) (2025.2)\n",
            "Requirement already satisfied: wrapt in /usr/local/lib/python3.11/dist-packages (from smart_open->ray[default]->levanter==1.1) (1.17.2)\n",
            "Requirement already satisfied: smmap<6,>=3.0.1 in /usr/local/lib/python3.11/dist-packages (from gitdb<5,>=4.0.1->gitpython!=3.1.29,>=1.0.0->wandb->levanter==1.1) (5.0.2)\n",
            "Requirement already satisfied: googleapis-common-protos<2.0.0,>=1.56.2 in /usr/local/lib/python3.11/dist-packages (from google-api-core<3.0.0dev,>=2.15.0->google-cloud-storage->gcsfs<2023.10.0->levanter==1.1) (1.70.0)\n",
            "Requirement already satisfied: proto-plus<2.0.0,>=1.22.3 in /usr/local/lib/python3.11/dist-packages (from google-api-core<3.0.0dev,>=2.15.0->google-cloud-storage->gcsfs<2023.10.0->levanter==1.1) (1.26.1)\n",
            "Requirement already satisfied: pyasn1<0.7.0,>=0.6.1 in /usr/local/lib/python3.11/dist-packages (from pyasn1-modules>=0.2.1->google-auth>=1.2->gcsfs<2023.10.0->levanter==1.1) (0.6.1)\n",
            "Requirement already satisfied: oauthlib>=3.0.0 in /usr/local/lib/python3.11/dist-packages (from requests-oauthlib>=0.7.0->google-auth-oauthlib->gcsfs<2023.10.0->levanter==1.1) (3.2.2)\n",
            "Requirement already satisfied: orbax-checkpoint in /usr/local/lib/python3.11/dist-packages (from flax->aqtp>=0.8.2->haliax@ git+https://github.com/stanford-crfm/haliax.git->levanter==1.1) (0.11.13)\n",
            "Requirement already satisfied: treescope>=0.1.7 in /usr/local/lib/python3.11/dist-packages (from flax->aqtp>=0.8.2->haliax@ git+https://github.com/stanford-crfm/haliax.git->levanter==1.1) (0.1.9)\n",
            "INFO: pip is looking at multiple versions of orbax-checkpoint to determine which version is compatible with other requirements. This could take a while.\n",
            "Collecting orbax-checkpoint (from flax->aqtp>=0.8.2->haliax@ git+https://github.com/stanford-crfm/haliax.git->levanter==1.1)\n",
            "  Downloading orbax_checkpoint-0.11.12-py3-none-any.whl.metadata (2.0 kB)\n",
            "  Downloading orbax_checkpoint-0.11.11-py3-none-any.whl.metadata (2.0 kB)\n",
            "  Downloading orbax_checkpoint-0.11.10-py3-none-any.whl.metadata (2.0 kB)\n",
            "  Downloading orbax_checkpoint-0.11.9-py3-none-any.whl.metadata (2.0 kB)\n",
            "  Downloading orbax_checkpoint-0.11.8-py3-none-any.whl.metadata (2.0 kB)\n",
            "  Downloading orbax_checkpoint-0.11.7-py3-none-any.whl.metadata (2.0 kB)\n",
            "  Downloading orbax_checkpoint-0.11.6-py3-none-any.whl.metadata (1.9 kB)\n",
            "INFO: pip is still looking at multiple versions of orbax-checkpoint to determine which version is compatible with other requirements. This could take a while.\n",
            "  Downloading orbax_checkpoint-0.11.5-py3-none-any.whl.metadata (1.9 kB)\n",
            "  Downloading orbax_checkpoint-0.11.4-py3-none-any.whl.metadata (1.9 kB)\n",
            "  Downloading orbax_checkpoint-0.11.3-py3-none-any.whl.metadata (1.9 kB)\n",
            "  Downloading orbax_checkpoint-0.11.2-py3-none-any.whl.metadata (1.9 kB)\n",
            "  Downloading orbax_checkpoint-0.11.1-py3-none-any.whl.metadata (1.9 kB)\n",
            "INFO: This is taking longer than usual. You might need to provide the dependency resolver with stricter constraints to reduce runtime. See https://pip.pypa.io/warnings/backtracking for guidance. If you want to abort this run, press Ctrl + C.\n",
            "  Downloading orbax_checkpoint-0.11.0-py3-none-any.whl.metadata (1.9 kB)\n",
            "  Downloading orbax_checkpoint-0.10.3-py3-none-any.whl.metadata (1.9 kB)\n",
            "  Downloading orbax_checkpoint-0.10.2-py3-none-any.whl.metadata (1.9 kB)\n",
            "  Downloading orbax_checkpoint-0.10.1-py3-none-any.whl.metadata (1.9 kB)\n",
            "  Downloading orbax_checkpoint-0.10.0-py3-none-any.whl.metadata (1.9 kB)\n",
            "  Downloading orbax_checkpoint-0.9.1-py3-none-any.whl.metadata (1.8 kB)\n",
            "  Downloading orbax_checkpoint-0.9.0-py3-none-any.whl.metadata (1.8 kB)\n",
            "  Downloading orbax_checkpoint-0.8.0-py3-none-any.whl.metadata (1.8 kB)\n",
            "  Downloading orbax_checkpoint-0.7.0-py3-none-any.whl.metadata (1.8 kB)\n",
            "  Downloading orbax_checkpoint-0.6.4-py3-none-any.whl.metadata (1.8 kB)\n",
            "  Downloading orbax_checkpoint-0.6.3-py3-none-any.whl.metadata (1.8 kB)\n",
            "  Downloading orbax_checkpoint-0.6.2-py3-none-any.whl.metadata (1.8 kB)\n",
            "  Downloading orbax_checkpoint-0.6.1-py3-none-any.whl.metadata (1.8 kB)\n",
            "  Downloading orbax_checkpoint-0.6.0-py3-none-any.whl.metadata (1.8 kB)\n",
            "  Downloading orbax_checkpoint-0.5.23-py3-none-any.whl.metadata (1.8 kB)\n",
            "  Downloading orbax_checkpoint-0.5.22-py3-none-any.whl.metadata (1.8 kB)\n",
            "  Downloading orbax_checkpoint-0.5.21-py3-none-any.whl.metadata (1.8 kB)\n",
            "  Downloading orbax_checkpoint-0.5.20-py3-none-any.whl.metadata (1.8 kB)\n",
            "  Downloading orbax_checkpoint-0.5.19-py3-none-any.whl.metadata (1.8 kB)\n",
            "  Downloading orbax_checkpoint-0.5.18-py3-none-any.whl.metadata (1.8 kB)\n",
            "  Downloading orbax_checkpoint-0.5.17-py3-none-any.whl.metadata (1.8 kB)\n",
            "  Downloading orbax_checkpoint-0.5.16-py3-none-any.whl.metadata (1.8 kB)\n",
            "  Downloading orbax_checkpoint-0.5.15-py3-none-any.whl.metadata (1.8 kB)\n",
            "  Downloading orbax_checkpoint-0.5.14-py3-none-any.whl.metadata (1.8 kB)\n",
            "  Downloading orbax_checkpoint-0.5.13-py3-none-any.whl.metadata (1.8 kB)\n",
            "  Downloading orbax_checkpoint-0.5.12-py3-none-any.whl.metadata (1.8 kB)\n",
            "  Downloading orbax_checkpoint-0.5.11-py3-none-any.whl.metadata (1.8 kB)\n",
            "  Downloading orbax_checkpoint-0.5.10-py3-none-any.whl.metadata (1.8 kB)\n",
            "  Downloading orbax_checkpoint-0.5.9-py3-none-any.whl.metadata (1.7 kB)\n",
            "  Downloading orbax_checkpoint-0.5.8-py3-none-any.whl.metadata (1.7 kB)\n",
            "  Downloading orbax_checkpoint-0.5.7-py3-none-any.whl.metadata (1.7 kB)\n",
            "  Downloading orbax_checkpoint-0.5.6-py3-none-any.whl.metadata (1.7 kB)\n",
            "  Downloading orbax_checkpoint-0.5.5-py3-none-any.whl.metadata (1.7 kB)\n",
            "  Downloading orbax_checkpoint-0.5.4-py3-none-any.whl.metadata (1.7 kB)\n",
            "  Downloading orbax_checkpoint-0.5.3-py3-none-any.whl.metadata (1.7 kB)\n",
            "  Downloading orbax_checkpoint-0.5.2-py3-none-any.whl.metadata (1.7 kB)\n",
            "  Downloading orbax_checkpoint-0.5.1-py3-none-any.whl.metadata (1.7 kB)\n",
            "  Downloading orbax_checkpoint-0.5.0-py3-none-any.whl.metadata (1.7 kB)\n",
            "  Downloading orbax_checkpoint-0.4.8-py3-none-any.whl.metadata (1.7 kB)\n",
            "  Downloading orbax_checkpoint-0.4.7-py3-none-any.whl.metadata (1.7 kB)\n",
            "  Downloading orbax_checkpoint-0.4.6-py3-none-any.whl.metadata (1.7 kB)\n",
            "  Downloading orbax_checkpoint-0.4.5-py3-none-any.whl.metadata (1.7 kB)\n",
            "  Downloading orbax_checkpoint-0.4.4-py3-none-any.whl.metadata (1.7 kB)\n",
            "Requirement already satisfied: nest_asyncio in /usr/local/lib/python3.11/dist-packages (from orbax-checkpoint->flax->aqtp>=0.8.2->haliax@ git+https://github.com/stanford-crfm/haliax.git->levanter==1.1) (1.6.0)\n",
            "Requirement already satisfied: importlib_resources in /usr/local/lib/python3.11/dist-packages (from etils[epy]->optax->levanter==1.1) (6.5.2)\n",
            "Requirement already satisfied: zipp in /usr/local/lib/python3.11/dist-packages (from etils[epy]->optax->levanter==1.1) (3.21.0)\n",
            "Downloading datasets-2.11.0-py3-none-any.whl (468 kB)\n",
            "\u001b[2K   \u001b[90m━━━━━━━━━━━━━━━━━━━━━━━━━━━━━━━━━━━━━━━━\u001b[0m \u001b[32m468.7/468.7 kB\u001b[0m \u001b[31m31.4 MB/s\u001b[0m eta \u001b[36m0:00:00\u001b[0m\n",
            "\u001b[?25hDownloading humanfriendly-10.0-py2.py3-none-any.whl (86 kB)\n",
            "\u001b[2K   \u001b[90m━━━━━━━━━━━━━━━━━━━━━━━━━━━━━━━━━━━━━━━━\u001b[0m \u001b[32m86.8/86.8 kB\u001b[0m \u001b[31m8.1 MB/s\u001b[0m eta \u001b[36m0:00:00\u001b[0m\n",
            "\u001b[?25hDownloading tensorstore-0.1.45-cp311-cp311-manylinux_2_17_x86_64.manylinux2014_x86_64.whl (13.5 MB)\n",
            "\u001b[2K   \u001b[90m━━━━━━━━━━━━━━━━━━━━━━━━━━━━━━━━━━━━━━━━\u001b[0m \u001b[32m13.5/13.5 MB\u001b[0m \u001b[31m98.7 MB/s\u001b[0m eta \u001b[36m0:00:00\u001b[0m\n",
            "\u001b[?25hDownloading braceexpand-0.1.7-py2.py3-none-any.whl (5.9 kB)\n",
            "Downloading draccus-0.11.5-py3-none-any.whl (78 kB)\n",
            "\u001b[2K   \u001b[90m━━━━━━━━━━━━━━━━━━━━━━━━━━━━━━━━━━━━━━━━\u001b[0m \u001b[32m78.4/78.4 kB\u001b[0m \u001b[31m8.5 MB/s\u001b[0m eta \u001b[36m0:00:00\u001b[0m\n",
            "\u001b[?25hDownloading equinox-0.12.2-py3-none-any.whl (177 kB)\n",
            "\u001b[2K   \u001b[90m━━━━━━━━━━━━━━━━━━━━━━━━━━━━━━━━━━━━━━━━\u001b[0m \u001b[32m177.2/177.2 kB\u001b[0m \u001b[31m19.0 MB/s\u001b[0m eta \u001b[36m0:00:00\u001b[0m\n",
            "\u001b[?25hDownloading fsspec-2023.9.2-py3-none-any.whl (173 kB)\n",
            "\u001b[2K   \u001b[90m━━━━━━━━━━━━━━━━━━━━━━━━━━━━━━━━━━━━━━━━\u001b[0m \u001b[32m173.4/173.4 kB\u001b[0m \u001b[31m18.5 MB/s\u001b[0m eta \u001b[36m0:00:00\u001b[0m\n",
            "\u001b[?25hDownloading gcsfs-2023.9.2-py2.py3-none-any.whl (33 kB)\n",
            "Downloading jaxtyping-0.3.2-py3-none-any.whl (55 kB)\n",
            "\u001b[2K   \u001b[90m━━━━━━━━━━━━━━━━━━━━━━━━━━━━━━━━━━━━━━━━\u001b[0m \u001b[32m55.4/55.4 kB\u001b[0m \u001b[31m5.4 MB/s\u001b[0m eta \u001b[36m0:00:00\u001b[0m\n",
            "\u001b[?25hDownloading jmp-0.0.4-py3-none-any.whl (18 kB)\n",
            "Downloading pydantic-1.10.22-cp311-cp311-manylinux_2_17_x86_64.manylinux2014_x86_64.whl (3.1 MB)\n",
            "\u001b[2K   \u001b[90m━━━━━━━━━━━━━━━━━━━━━━━━━━━━━━━━━━━━━━━━\u001b[0m \u001b[32m3.1/3.1 MB\u001b[0m \u001b[31m110.4 MB/s\u001b[0m eta \u001b[36m0:00:00\u001b[0m\n",
            "\u001b[?25hDownloading pytimeparse-1.1.8-py2.py3-none-any.whl (10.0 kB)\n",
            "Downloading tblib-1.7.0-py2.py3-none-any.whl (12 kB)\n",
            "Downloading dataclasses_json-0.6.7-py3-none-any.whl (28 kB)\n",
            "Downloading aqtp-0.8.4-py3-none-any.whl (900 kB)\n",
            "\u001b[2K   \u001b[90m━━━━━━━━━━━━━━━━━━━━━━━━━━━━━━━━━━━━━━━━\u001b[0m \u001b[32m900.4/900.4 kB\u001b[0m \u001b[31m62.2 MB/s\u001b[0m eta \u001b[36m0:00:00\u001b[0m\n",
            "\u001b[?25hDownloading dill-0.3.6-py3-none-any.whl (110 kB)\n",
            "\u001b[2K   \u001b[90m━━━━━━━━━━━━━━━━━━━━━━━━━━━━━━━━━━━━━━━━\u001b[0m \u001b[32m110.5/110.5 kB\u001b[0m \u001b[31m11.5 MB/s\u001b[0m eta \u001b[36m0:00:00\u001b[0m\n",
            "\u001b[?25hDownloading marshmallow-3.26.1-py3-none-any.whl (50 kB)\n",
            "\u001b[2K   \u001b[90m━━━━━━━━━━━━━━━━━━━━━━━━━━━━━━━━━━━━━━━━\u001b[0m \u001b[32m50.9/50.9 kB\u001b[0m \u001b[31m4.6 MB/s\u001b[0m eta \u001b[36m0:00:00\u001b[0m\n",
            "\u001b[?25hDownloading mergedeep-1.3.4-py3-none-any.whl (6.4 kB)\n",
            "Downloading py_spy-0.4.0-py2.py3-none-manylinux_2_5_x86_64.manylinux1_x86_64.whl (2.7 MB)\n",
            "\u001b[2K   \u001b[90m━━━━━━━━━━━━━━━━━━━━━━━━━━━━━━━━━━━━━━━━\u001b[0m \u001b[32m2.7/2.7 MB\u001b[0m \u001b[31m107.8 MB/s\u001b[0m eta \u001b[36m0:00:00\u001b[0m\n",
            "\u001b[?25hDownloading pyyaml_include-1.4.1-py3-none-any.whl (19 kB)\n",
            "Downloading responses-0.18.0-py3-none-any.whl (38 kB)\n",
            "Downloading typing_inspect-0.9.0-py3-none-any.whl (8.8 kB)\n",
            "Downloading virtualenv-20.31.2-py3-none-any.whl (6.1 MB)\n",
            "\u001b[2K   \u001b[90m━━━━━━━━━━━━━━━━━━━━━━━━━━━━━━━━━━━━━━━━\u001b[0m \u001b[32m6.1/6.1 MB\u001b[0m \u001b[31m134.5 MB/s\u001b[0m eta \u001b[36m0:00:00\u001b[0m\n",
            "\u001b[?25hDownloading wadler_lindig-0.1.6-py3-none-any.whl (20 kB)\n",
            "Downloading aiohttp_cors-0.8.1-py3-none-any.whl (25 kB)\n",
            "Downloading colorful-0.5.6-py2.py3-none-any.whl (201 kB)\n",
            "\u001b[2K   \u001b[90m━━━━━━━━━━━━━━━━━━━━━━━━━━━━━━━━━━━━━━━━\u001b[0m \u001b[32m201.4/201.4 kB\u001b[0m \u001b[31m21.9 MB/s\u001b[0m eta \u001b[36m0:00:00\u001b[0m\n",
            "\u001b[?25hDownloading multiprocess-0.70.14-py310-none-any.whl (134 kB)\n",
            "\u001b[2K   \u001b[90m━━━━━━━━━━━━━━━━━━━━━━━━━━━━━━━━━━━━━━━━\u001b[0m \u001b[32m134.3/134.3 kB\u001b[0m \u001b[31m15.3 MB/s\u001b[0m eta \u001b[36m0:00:00\u001b[0m\n",
            "\u001b[?25hDownloading opencensus-0.11.4-py2.py3-none-any.whl (128 kB)\n",
            "\u001b[2K   \u001b[90m━━━━━━━━━━━━━━━━━━━━━━━━━━━━━━━━━━━━━━━━\u001b[0m \u001b[32m128.2/128.2 kB\u001b[0m \u001b[31m12.7 MB/s\u001b[0m eta \u001b[36m0:00:00\u001b[0m\n",
            "\u001b[?25hDownloading ray-2.46.0-cp311-cp311-manylinux2014_x86_64.whl (68.5 MB)\n",
            "\u001b[2K   \u001b[90m━━━━━━━━━━━━━━━━━━━━━━━━━━━━━━━━━━━━━━━━\u001b[0m \u001b[32m68.5/68.5 MB\u001b[0m \u001b[31m37.7 MB/s\u001b[0m eta \u001b[36m0:00:00\u001b[0m\n",
            "\u001b[?25hDownloading distlib-0.3.9-py2.py3-none-any.whl (468 kB)\n",
            "\u001b[2K   \u001b[90m━━━━━━━━━━━━━━━━━━━━━━━━━━━━━━━━━━━━━━━━\u001b[0m \u001b[32m469.0/469.0 kB\u001b[0m \u001b[31m39.6 MB/s\u001b[0m eta \u001b[36m0:00:00\u001b[0m\n",
            "\u001b[?25hDownloading mypy_extensions-1.1.0-py3-none-any.whl (5.0 kB)\n",
            "Downloading opencensus_context-0.1.3-py2.py3-none-any.whl (5.1 kB)\n",
            "Downloading orbax_checkpoint-0.4.4-py3-none-any.whl (123 kB)\n",
            "\u001b[2K   \u001b[90m━━━━━━━━━━━━━━━━━━━━━━━━━━━━━━━━━━━━━━━━\u001b[0m \u001b[32m124.0/124.0 kB\u001b[0m \u001b[31m2.0 MB/s\u001b[0m eta \u001b[36m0:00:00\u001b[0m\n",
            "\u001b[?25hBuilding wheels for collected packages: levanter, haliax\n",
            "  Building editable for levanter (pyproject.toml) ... \u001b[?25l\u001b[?25hdone\n",
            "  Created wheel for levanter: filename=levanter-1.1-py3-none-any.whl size=10363 sha256=d8186da0a7599825c9f7d0a5593201028dc368c37c3389765b94b02b10c981cf\n",
            "  Stored in directory: /tmp/pip-ephem-wheel-cache-_fvsyt6h/wheels/4e/10/46/7facda5476b339a8f6e0bb04b8b2117b2d0d0a9b5c9798bf3d\n",
            "  Building wheel for haliax (pyproject.toml) ... \u001b[?25l\u001b[?25hdone\n",
            "  Created wheel for haliax: filename=haliax-1.4-py3-none-any.whl size=117706 sha256=35a71fe4700f3f4b4d8ea0762952f8e23fbb124ac9e9858c45d2cdf079c985ee\n",
            "  Stored in directory: /tmp/pip-ephem-wheel-cache-_fvsyt6h/wheels/d8/54/8f/c6b3be577350e071a4ae00c8a4dde3ae769f4e8c7a51ca2a17\n",
            "Successfully built levanter haliax\n",
            "Installing collected packages: pytimeparse, py-spy, opencensus-context, distlib, colorful, braceexpand, wadler-lindig, virtualenv, tensorstore, tblib, pyyaml-include, pydantic, mypy-extensions, mergedeep, marshmallow, jmp, humanfriendly, fsspec, dill, typing-inspect, responses, multiprocess, jaxtyping, draccus, dataclasses-json, aiohttp_cors, ray, orbax-checkpoint, opencensus, equinox, datasets, gcsfs, aqtp, haliax, levanter\n",
            "  Attempting uninstall: tensorstore\n",
            "    Found existing installation: tensorstore 0.1.74\n",
            "    Uninstalling tensorstore-0.1.74:\n",
            "      Successfully uninstalled tensorstore-0.1.74\n",
            "  Attempting uninstall: tblib\n",
            "    Found existing installation: tblib 3.1.0\n",
            "    Uninstalling tblib-3.1.0:\n",
            "      Successfully uninstalled tblib-3.1.0\n",
            "  Attempting uninstall: pydantic\n",
            "    Found existing installation: pydantic 2.11.4\n",
            "    Uninstalling pydantic-2.11.4:\n",
            "      Successfully uninstalled pydantic-2.11.4\n",
            "  Attempting uninstall: fsspec\n",
            "    Found existing installation: fsspec 2025.3.2\n",
            "    Uninstalling fsspec-2025.3.2:\n",
            "      Successfully uninstalled fsspec-2025.3.2\n",
            "  Attempting uninstall: dill\n",
            "    Found existing installation: dill 0.3.7\n",
            "    Uninstalling dill-0.3.7:\n",
            "      Successfully uninstalled dill-0.3.7\n",
            "  Attempting uninstall: multiprocess\n",
            "    Found existing installation: multiprocess 0.70.15\n",
            "    Uninstalling multiprocess-0.70.15:\n",
            "      Successfully uninstalled multiprocess-0.70.15\n",
            "  Attempting uninstall: orbax-checkpoint\n",
            "    Found existing installation: orbax-checkpoint 0.11.13\n",
            "    Uninstalling orbax-checkpoint-0.11.13:\n",
            "      Successfully uninstalled orbax-checkpoint-0.11.13\n",
            "  Attempting uninstall: datasets\n",
            "    Found existing installation: datasets 2.14.4\n",
            "    Uninstalling datasets-2.14.4:\n",
            "      Successfully uninstalled datasets-2.14.4\n",
            "  Attempting uninstall: gcsfs\n",
            "    Found existing installation: gcsfs 2025.3.2\n",
            "    Uninstalling gcsfs-2025.3.2:\n",
            "      Successfully uninstalled gcsfs-2025.3.2\n",
            "\u001b[31mERROR: pip's dependency resolver does not currently take into account all the packages that are installed. This behaviour is the source of the following dependency conflicts.\n",
            "thinc 8.3.6 requires pydantic<3.0.0,>=2.0.0, but you have pydantic 1.10.22 which is incompatible.\n",
            "langchain-core 0.3.59 requires pydantic<3.0.0,>=2.5.2; python_full_version < \"3.12.4\", but you have pydantic 1.10.22 which is incompatible.\n",
            "langchain 0.3.25 requires pydantic<3.0.0,>=2.7.4, but you have pydantic 1.10.22 which is incompatible.\n",
            "albumentations 2.0.6 requires pydantic>=2.9.2, but you have pydantic 1.10.22 which is incompatible.\n",
            "google-genai 1.15.0 requires pydantic<3.0.0,>=2.0.0, but you have pydantic 1.10.22 which is incompatible.\n",
            "torch 2.6.0+cu124 requires nvidia-cublas-cu12==12.4.5.8; platform_system == \"Linux\" and platform_machine == \"x86_64\", but you have nvidia-cublas-cu12 12.5.3.2 which is incompatible.\n",
            "torch 2.6.0+cu124 requires nvidia-cuda-cupti-cu12==12.4.127; platform_system == \"Linux\" and platform_machine == \"x86_64\", but you have nvidia-cuda-cupti-cu12 12.5.82 which is incompatible.\n",
            "torch 2.6.0+cu124 requires nvidia-cuda-nvrtc-cu12==12.4.127; platform_system == \"Linux\" and platform_machine == \"x86_64\", but you have nvidia-cuda-nvrtc-cu12 12.5.82 which is incompatible.\n",
            "torch 2.6.0+cu124 requires nvidia-cuda-runtime-cu12==12.4.127; platform_system == \"Linux\" and platform_machine == \"x86_64\", but you have nvidia-cuda-runtime-cu12 12.5.82 which is incompatible.\n",
            "torch 2.6.0+cu124 requires nvidia-cudnn-cu12==9.1.0.70; platform_system == \"Linux\" and platform_machine == \"x86_64\", but you have nvidia-cudnn-cu12 9.3.0.75 which is incompatible.\n",
            "torch 2.6.0+cu124 requires nvidia-cufft-cu12==11.2.1.3; platform_system == \"Linux\" and platform_machine == \"x86_64\", but you have nvidia-cufft-cu12 11.2.3.61 which is incompatible.\n",
            "torch 2.6.0+cu124 requires nvidia-curand-cu12==10.3.5.147; platform_system == \"Linux\" and platform_machine == \"x86_64\", but you have nvidia-curand-cu12 10.3.6.82 which is incompatible.\n",
            "torch 2.6.0+cu124 requires nvidia-cusolver-cu12==11.6.1.9; platform_system == \"Linux\" and platform_machine == \"x86_64\", but you have nvidia-cusolver-cu12 11.6.3.83 which is incompatible.\n",
            "torch 2.6.0+cu124 requires nvidia-cusparse-cu12==12.3.1.170; platform_system == \"Linux\" and platform_machine == \"x86_64\", but you have nvidia-cusparse-cu12 12.5.1.3 which is incompatible.\n",
            "torch 2.6.0+cu124 requires nvidia-nvjitlink-cu12==12.4.127; platform_system == \"Linux\" and platform_machine == \"x86_64\", but you have nvidia-nvjitlink-cu12 12.5.82 which is incompatible.\u001b[0m\u001b[31m\n",
            "\u001b[0mSuccessfully installed aiohttp_cors-0.8.1 aqtp-0.8.4 braceexpand-0.1.7 colorful-0.5.6 dataclasses-json-0.6.7 datasets-2.11.0 dill-0.3.6 distlib-0.3.9 draccus-0.11.5 equinox-0.12.2 fsspec-2023.9.2 gcsfs-2023.9.2 haliax-1.4 humanfriendly-10.0 jaxtyping-0.3.2 jmp-0.0.4 levanter-1.1 marshmallow-3.26.1 mergedeep-1.3.4 multiprocess-0.70.14 mypy-extensions-1.1.0 opencensus-0.11.4 opencensus-context-0.1.3 orbax-checkpoint-0.4.4 py-spy-0.4.0 pydantic-1.10.22 pytimeparse-1.1.8 pyyaml-include-1.4.1 ray-2.46.0 responses-0.18.0 tblib-1.7.0 tensorstore-0.1.45 typing-inspect-0.9.0 virtualenv-20.31.2 wadler-lindig-0.1.6\n",
            "Looking in links: https://storage.googleapis.com/jax-releases/jax_cuda_releases.html\n",
            "Collecting jax==0.4.18 (from jax[cuda12_pip]==0.4.18)\n",
            "  Downloading jax-0.4.18-py3-none-any.whl.metadata (23 kB)\n",
            "Collecting optax==0.1.7\n",
            "  Downloading optax-0.1.7-py3-none-any.whl.metadata (13 kB)\n",
            "Collecting scipy==1.11.3\n",
            "  Downloading scipy-1.11.3-cp311-cp311-manylinux_2_17_x86_64.manylinux2014_x86_64.whl.metadata (60 kB)\n",
            "\u001b[2K     \u001b[90m━━━━━━━━━━━━━━━━━━━━━━━━━━━━━━━━━━━━━━━━\u001b[0m \u001b[32m60.4/60.4 kB\u001b[0m \u001b[31m4.8 MB/s\u001b[0m eta \u001b[36m0:00:00\u001b[0m\n",
            "\u001b[?25hCollecting haliax==1.2\n",
            "  Downloading haliax-1.2-py3-none-any.whl.metadata (7.4 kB)\n",
            "Requirement already satisfied: ml-dtypes>=0.2.0 in /usr/local/lib/python3.11/dist-packages (from jax==0.4.18->jax[cuda12_pip]==0.4.18) (0.4.1)\n",
            "Requirement already satisfied: numpy>=1.22 in /usr/local/lib/python3.11/dist-packages (from jax==0.4.18->jax[cuda12_pip]==0.4.18) (2.0.2)\n",
            "Requirement already satisfied: opt-einsum in /usr/local/lib/python3.11/dist-packages (from jax==0.4.18->jax[cuda12_pip]==0.4.18) (3.4.0)\n",
            "Requirement already satisfied: absl-py>=0.7.1 in /usr/local/lib/python3.11/dist-packages (from optax==0.1.7) (1.4.0)\n",
            "Requirement already satisfied: chex>=0.1.5 in /usr/local/lib/python3.11/dist-packages (from optax==0.1.7) (0.1.89)\n",
            "Requirement already satisfied: jaxlib>=0.1.37 in /usr/local/lib/python3.11/dist-packages (from optax==0.1.7) (0.5.1)\n",
            "Collecting numpy>=1.22 (from jax==0.4.18->jax[cuda12_pip]==0.4.18)\n",
            "  Downloading numpy-1.26.4-cp311-cp311-manylinux_2_17_x86_64.manylinux2014_x86_64.whl.metadata (61 kB)\n",
            "\u001b[2K     \u001b[90m━━━━━━━━━━━━━━━━━━━━━━━━━━━━━━━━━━━━━━━━\u001b[0m \u001b[32m61.0/61.0 kB\u001b[0m \u001b[31m5.0 MB/s\u001b[0m eta \u001b[36m0:00:00\u001b[0m\n",
            "\u001b[?25hRequirement already satisfied: equinox>=0.10.6 in /usr/local/lib/python3.11/dist-packages (from haliax==1.2) (0.12.2)\n",
            "Requirement already satisfied: jaxtyping>=0.2.20 in /usr/local/lib/python3.11/dist-packages (from haliax==1.2) (0.3.2)\n",
            "Requirement already satisfied: safetensors[numpy] in /usr/local/lib/python3.11/dist-packages (from haliax==1.2) (0.5.3)\n",
            "Requirement already satisfied: jmp in /usr/local/lib/python3.11/dist-packages (from haliax==1.2) (0.0.4)\n",
            "Collecting jaxlib>=0.1.37 (from optax==0.1.7)\n",
            "  Downloading https://storage.googleapis.com/jax-releases/cuda12/jaxlib-0.4.18%2Bcuda12.cudnn89-cp311-cp311-manylinux2014_x86_64.whl (119.8 MB)\n",
            "\u001b[2K     \u001b[90m━━━━━━━━━━━━━━━━━━━━━━━━━━━━━━━━━━━━━━\u001b[0m \u001b[32m119.8/119.8 MB\u001b[0m \u001b[31m16.0 MB/s\u001b[0m eta \u001b[36m0:00:00\u001b[0m\n",
            "\u001b[?25hRequirement already satisfied: nvidia-cublas-cu12>=12.2.5.6 in /usr/local/lib/python3.11/dist-packages (from jax[cuda12_pip]==0.4.18) (12.5.3.2)\n",
            "Requirement already satisfied: nvidia-cuda-cupti-cu12>=12.2.142 in /usr/local/lib/python3.11/dist-packages (from jax[cuda12_pip]==0.4.18) (12.5.82)\n",
            "Requirement already satisfied: nvidia-cuda-nvcc-cu12>=12.2.140 in /usr/local/lib/python3.11/dist-packages (from jax[cuda12_pip]==0.4.18) (12.5.82)\n",
            "Requirement already satisfied: nvidia-cuda-runtime-cu12>=12.2.140 in /usr/local/lib/python3.11/dist-packages (from jax[cuda12_pip]==0.4.18) (12.5.82)\n",
            "Requirement already satisfied: nvidia-cudnn-cu12>=8.9 in /usr/local/lib/python3.11/dist-packages (from jax[cuda12_pip]==0.4.18) (9.3.0.75)\n",
            "Requirement already satisfied: nvidia-cufft-cu12>=11.0.8.103 in /usr/local/lib/python3.11/dist-packages (from jax[cuda12_pip]==0.4.18) (11.2.3.61)\n",
            "Requirement already satisfied: nvidia-cusolver-cu12>=11.5.2 in /usr/local/lib/python3.11/dist-packages (from jax[cuda12_pip]==0.4.18) (11.6.3.83)\n",
            "Requirement already satisfied: nvidia-cusparse-cu12>=12.1.2.141 in /usr/local/lib/python3.11/dist-packages (from jax[cuda12_pip]==0.4.18) (12.5.1.3)\n",
            "Requirement already satisfied: nvidia-nccl-cu12>=2.18.3 in /usr/local/lib/python3.11/dist-packages (from jax[cuda12_pip]==0.4.18) (2.21.5)\n",
            "Requirement already satisfied: typing_extensions>=4.2.0 in /usr/local/lib/python3.11/dist-packages (from chex>=0.1.5->optax==0.1.7) (4.13.2)\n",
            "INFO: pip is looking at multiple versions of chex to determine which version is compatible with other requirements. This could take a while.\n",
            "Collecting chex>=0.1.5 (from optax==0.1.7)\n",
            "  Downloading chex-0.1.88-py3-none-any.whl.metadata (17 kB)\n",
            "  Downloading chex-0.1.87-py3-none-any.whl.metadata (17 kB)\n",
            "  Downloading chex-0.1.86-py3-none-any.whl.metadata (17 kB)\n",
            "Requirement already satisfied: toolz>=0.9.0 in /usr/local/lib/python3.11/dist-packages (from chex>=0.1.5->optax==0.1.7) (0.12.1)\n",
            "INFO: pip is looking at multiple versions of equinox to determine which version is compatible with other requirements. This could take a while.\n",
            "Collecting equinox>=0.10.6 (from haliax==1.2)\n",
            "  Downloading equinox-0.12.1-py3-none-any.whl.metadata (18 kB)\n",
            "  Downloading equinox-0.12.0-py3-none-any.whl.metadata (18 kB)\n",
            "  Downloading equinox-0.11.12-py3-none-any.whl.metadata (18 kB)\n",
            "  Downloading equinox-0.11.11-py3-none-any.whl.metadata (18 kB)\n",
            "  Downloading equinox-0.11.10-py3-none-any.whl.metadata (18 kB)\n",
            "Requirement already satisfied: wadler-lindig>=0.1.3 in /usr/local/lib/python3.11/dist-packages (from jaxtyping>=0.2.20->haliax==1.2) (0.1.6)\n",
            "Requirement already satisfied: nvidia-nvjitlink-cu12 in /usr/local/lib/python3.11/dist-packages (from nvidia-cufft-cu12>=11.0.8.103->jax[cuda12_pip]==0.4.18) (12.5.82)\n",
            "Downloading jax-0.4.18-py3-none-any.whl (1.7 MB)\n",
            "\u001b[2K   \u001b[90m━━━━━━━━━━━━━━━━━━━━━━━━━━━━━━━━━━━━━━━━\u001b[0m \u001b[32m1.7/1.7 MB\u001b[0m \u001b[31m44.8 MB/s\u001b[0m eta \u001b[36m0:00:00\u001b[0m\n",
            "\u001b[?25hDownloading optax-0.1.7-py3-none-any.whl (154 kB)\n",
            "\u001b[2K   \u001b[90m━━━━━━━━━━━━━━━━━━━━━━━━━━━━━━━━━━━━━━━━\u001b[0m \u001b[32m154.1/154.1 kB\u001b[0m \u001b[31m14.4 MB/s\u001b[0m eta \u001b[36m0:00:00\u001b[0m\n",
            "\u001b[?25hDownloading scipy-1.11.3-cp311-cp311-manylinux_2_17_x86_64.manylinux2014_x86_64.whl (36.4 MB)\n",
            "\u001b[2K   \u001b[90m━━━━━━━━━━━━━━━━━━━━━━━━━━━━━━━━━━━━━━━━\u001b[0m \u001b[32m36.4/36.4 MB\u001b[0m \u001b[31m65.9 MB/s\u001b[0m eta \u001b[36m0:00:00\u001b[0m\n",
            "\u001b[?25hDownloading haliax-1.2-py3-none-any.whl (73 kB)\n",
            "\u001b[2K   \u001b[90m━━━━━━━━━━━━━━━━━━━━━━━━━━━━━━━━━━━━━━━━\u001b[0m \u001b[32m73.8/73.8 kB\u001b[0m \u001b[31m7.3 MB/s\u001b[0m eta \u001b[36m0:00:00\u001b[0m\n",
            "\u001b[?25hDownloading chex-0.1.86-py3-none-any.whl (98 kB)\n",
            "\u001b[2K   \u001b[90m━━━━━━━━━━━━━━━━━━━━━━━━━━━━━━━━━━━━━━━━\u001b[0m \u001b[32m98.2/98.2 kB\u001b[0m \u001b[31m10.2 MB/s\u001b[0m eta \u001b[36m0:00:00\u001b[0m\n",
            "\u001b[?25hDownloading equinox-0.11.10-py3-none-any.whl (178 kB)\n",
            "\u001b[2K   \u001b[90m━━━━━━━━━━━━━━━━━━━━━━━━━━━━━━━━━━━━━━━━\u001b[0m \u001b[32m178.9/178.9 kB\u001b[0m \u001b[31m17.8 MB/s\u001b[0m eta \u001b[36m0:00:00\u001b[0m\n",
            "\u001b[?25hDownloading numpy-1.26.4-cp311-cp311-manylinux_2_17_x86_64.manylinux2014_x86_64.whl (18.3 MB)\n",
            "\u001b[2K   \u001b[90m━━━━━━━━━━━━━━━━━━━━━━━━━━━━━━━━━━━━━━━━\u001b[0m \u001b[32m18.3/18.3 MB\u001b[0m \u001b[31m105.4 MB/s\u001b[0m eta \u001b[36m0:00:00\u001b[0m\n",
            "\u001b[?25hInstalling collected packages: numpy, scipy, jaxlib, jax, equinox, chex, optax, haliax\n",
            "  Attempting uninstall: numpy\n",
            "    Found existing installation: numpy 2.0.2\n",
            "    Uninstalling numpy-2.0.2:\n",
            "      Successfully uninstalled numpy-2.0.2\n",
            "  Attempting uninstall: scipy\n",
            "    Found existing installation: scipy 1.15.3\n",
            "    Uninstalling scipy-1.15.3:\n",
            "      Successfully uninstalled scipy-1.15.3\n",
            "  Attempting uninstall: jaxlib\n",
            "    Found existing installation: jaxlib 0.5.1\n",
            "    Uninstalling jaxlib-0.5.1:\n",
            "      Successfully uninstalled jaxlib-0.5.1\n",
            "  Attempting uninstall: jax\n",
            "    Found existing installation: jax 0.5.2\n",
            "    Uninstalling jax-0.5.2:\n",
            "      Successfully uninstalled jax-0.5.2\n",
            "  Attempting uninstall: equinox\n",
            "    Found existing installation: equinox 0.12.2\n",
            "    Uninstalling equinox-0.12.2:\n",
            "      Successfully uninstalled equinox-0.12.2\n",
            "  Attempting uninstall: chex\n",
            "    Found existing installation: chex 0.1.89\n",
            "    Uninstalling chex-0.1.89:\n",
            "      Successfully uninstalled chex-0.1.89\n",
            "  Attempting uninstall: optax\n",
            "    Found existing installation: optax 0.2.4\n",
            "    Uninstalling optax-0.2.4:\n",
            "      Successfully uninstalled optax-0.2.4\n",
            "  Attempting uninstall: haliax\n",
            "    Found existing installation: haliax 1.4\n",
            "    Uninstalling haliax-1.4:\n",
            "      Successfully uninstalled haliax-1.4\n",
            "\u001b[31mERROR: pip's dependency resolver does not currently take into account all the packages that are installed. This behaviour is the source of the following dependency conflicts.\n",
            "tsfresh 0.21.0 requires scipy>=1.14.0; python_version >= \"3.10\", but you have scipy 1.11.3 which is incompatible.\n",
            "thinc 8.3.6 requires numpy<3.0.0,>=2.0.0, but you have numpy 1.26.4 which is incompatible.\n",
            "thinc 8.3.6 requires pydantic<3.0.0,>=2.0.0, but you have pydantic 1.10.22 which is incompatible.\n",
            "flax 0.10.6 requires jax>=0.5.1, but you have jax 0.4.18 which is incompatible.\n",
            "albumentations 2.0.6 requires pydantic>=2.9.2, but you have pydantic 1.10.22 which is incompatible.\n",
            "scikit-image 0.25.2 requires scipy>=1.11.4, but you have scipy 1.11.3 which is incompatible.\u001b[0m\u001b[31m\n",
            "\u001b[0mSuccessfully installed chex-0.1.86 equinox-0.11.10 haliax-1.2 jax-0.4.18 jaxlib-0.4.18+cuda12.cudnn89 numpy-1.26.4 optax-0.1.7 scipy-1.11.3\n",
            "Reading package lists... Done\n",
            "Building dependency tree... Done\n",
            "Reading state information... Done\n",
            "The following NEW packages will be installed:\n",
            "  libcudnn8\n",
            "0 upgraded, 1 newly installed, 0 to remove and 34 not upgraded.\n",
            "Need to get 444 MB of archives.\n",
            "After this operation, 1,099 MB of additional disk space will be used.\n",
            "Get:1 https://developer.download.nvidia.com/compute/cuda/repos/ubuntu2204/x86_64  libcudnn8 8.9.7.29-1+cuda12.2 [444 MB]\n",
            "Fetched 444 MB in 4s (98.9 MB/s)\n",
            "Selecting previously unselected package libcudnn8.\n",
            "(Reading database ... 126102 files and directories currently installed.)\n",
            "Preparing to unpack .../libcudnn8_8.9.7.29-1+cuda12.2_amd64.deb ...\n",
            "Unpacking libcudnn8 (8.9.7.29-1+cuda12.2) ...\n",
            "Setting up libcudnn8 (8.9.7.29-1+cuda12.2) ...\n"
          ]
        }
      ]
    },
    {
      "cell_type": "markdown",
      "metadata": {
        "id": "qG8Rl-M9d-Jw"
      },
      "source": [
        "**/!\\ AT THIS POINT, RESTART RUNTIME /!\\** (run command below)"
      ]
    },
    {
      "cell_type": "code",
      "source": [
        "get_ipython().kernel.do_shutdown(True)"
      ],
      "metadata": {
        "id": "uwHCPeUp1ejU",
        "outputId": "d4e17dad-a94c-4f74-a4aa-a833e7c3a215",
        "colab": {
          "base_uri": "https://localhost:8080/"
        }
      },
      "execution_count": 4,
      "outputs": [
        {
          "output_type": "execute_result",
          "data": {
            "text/plain": [
              "{'status': 'ok', 'restart': True}"
            ]
          },
          "metadata": {},
          "execution_count": 4
        }
      ]
    },
    {
      "cell_type": "markdown",
      "metadata": {
        "id": "35QbvLHppG-u"
      },
      "source": [
        "# Train the gpt2 small"
      ]
    },
    {
      "cell_type": "code",
      "execution_count": 1,
      "metadata": {
        "id": "EfELE7EoodGY"
      },
      "outputs": [],
      "source": [
        "# Delete JAX Plugins\n",
        "!rm -rf /usr/local/lib/python3.11/dist-packages/jax_cuda12_pjrt-0.4.33.dist-info/\n",
        "!rm -rf /usr/local/lib/python3.11/dist-packages/jax_cuda12_plugin-0.4.33.dist-info/\n",
        "!rm -rf /usr/local/lib/python3.11/dist-packages/jax_cuda12_plugin/\n",
        "!rm -rf /usr/local/lib/python3.11/dist-packages/jax_plugins/"
      ]
    },
    {
      "cell_type": "code",
      "execution_count": 2,
      "metadata": {
        "colab": {
          "base_uri": "https://localhost:8080/"
        },
        "id": "pkJpW8AggSjF",
        "outputId": "57fd9b81-545f-4a0a-bba7-882534149902"
      },
      "outputs": [
        {
          "output_type": "stream",
          "name": "stderr",
          "text": [
            "WARNING:jax._src.xla_bridge:Jax plugin configuration error: Plugin module jax_plugins.xla_cuda12 does not exist\n"
          ]
        },
        {
          "output_type": "execute_result",
          "data": {
            "text/plain": [
              "{'cpu': <jaxlib.xla_extension.Client at 0x78405432d670>,\n",
              " 'cuda': <jaxlib.xla_extension.Client at 0x784028502470>}"
            ]
          },
          "metadata": {},
          "execution_count": 2
        }
      ],
      "source": [
        "import jax._src.xla_bridge as xlab\n",
        "\n",
        "xlab.backends()"
      ]
    },
    {
      "cell_type": "markdown",
      "source": [
        "In the next cell, replace `WANDB_API_KEY` with a W&B API key found here: https://wandb.ai/settings#api."
      ],
      "metadata": {
        "id": "3RRxqumiipNW"
      }
    },
    {
      "cell_type": "code",
      "source": [
        "!wandb login efece13391a70f30876a15fa369f5a1dfcd7628f"
      ],
      "metadata": {
        "colab": {
          "base_uri": "https://localhost:8080/"
        },
        "id": "bMMyIbye7zUW",
        "outputId": "1a1a5167-0914-4872-e1d5-1d3147af7670"
      },
      "execution_count": 3,
      "outputs": [
        {
          "output_type": "stream",
          "name": "stdout",
          "text": [
            "\u001b[34m\u001b[1mwandb\u001b[0m: \u001b[33mWARNING\u001b[0m Using legacy-service, which is deprecated. If this is unintentional, you can fix it by ensuring you do not call `wandb.require('legacy-service')` and do not set the WANDB_X_REQUIRE_LEGACY_SERVICE environment variable.\n",
            "\u001b[34m\u001b[1mwandb\u001b[0m: No netrc file found, creating one.\n",
            "\u001b[34m\u001b[1mwandb\u001b[0m: Appending key for api.wandb.ai to your netrc file: /root/.netrc\n",
            "\u001b[34m\u001b[1mwandb\u001b[0m: W&B API key is configured. Use \u001b[1m`wandb login --relogin`\u001b[0m to force relogin\n"
          ]
        }
      ]
    },
    {
      "cell_type": "code",
      "execution_count": null,
      "metadata": {
        "colab": {
          "base_uri": "https://localhost:8080/"
        },
        "id": "q76utOlUj2Hg",
        "outputId": "e99015f5-6c62-4e81-8a35-9cf88f1c2ec0"
      },
      "outputs": [
        {
          "metadata": {
            "tags": null
          },
          "name": "stdout",
          "output_type": "stream",
          "text": [
            "config.json: 100% 665/665 [00:00<00:00, 4.61MB/s]\n",
            "INFO:levanter.distributed:Not initializing jax.distributed because no distributed config was provided, and no cluster was detected.\n",
            "INFO:jax._src.xla_bridge:Unable to initialize backend 'rocm': NOT_FOUND: Could not find registered platform with name: \"rocm\". Available platform names are: CUDA\n",
            "INFO:jax._src.xla_bridge:Unable to initialize backend 'tpu': INTERNAL: Failed to open libtpu.so: libtpu.so: cannot open shared object file: No such file or directory\n",
            "INFO:levanter.trainer:Setting run id to a5cmax07\n",
            "INFO:levanter.distributed:No auto-discovered ray address found. Using default ray.init()\n",
            "INFO:levanter.distributed:ray.init(address=None, namespace='levanter', **{})\n",
            "2025-02-22 18:13:18,220\tINFO worker.py:1832 -- Started a local Ray instance. View the dashboard at \u001b[1m\u001b[32mhttp://127.0.0.1:8265 \u001b[39m\u001b[22m\n",
            "INFO:levanter.logging:Setting wandb code_dir to /content/levanterForAnticipation\n",
            "\u001b[34m\u001b[1mwandb\u001b[0m: Using wandb-core as the SDK backend.  Please refer to https://wandb.me/wandb-core for more information.\n",
            "\u001b[34m\u001b[1mwandb\u001b[0m: Currently logged in as: \u001b[33mlancelotblanchard\u001b[0m. Use \u001b[1m`wandb login --relogin`\u001b[0m to force relogin\n",
            "\u001b[34m\u001b[1mwandb\u001b[0m: Tracking run with wandb version 0.18.7\n",
            "\u001b[34m\u001b[1mwandb\u001b[0m: Run data is saved locally in \u001b[35m\u001b[1m/content/wandb/run-20250222_181320-a5cmax07\u001b[0m\n",
            "\u001b[34m\u001b[1mwandb\u001b[0m: Run \u001b[1m`wandb offline`\u001b[0m to turn off syncing.\n",
            "\u001b[34m\u001b[1mwandb\u001b[0m: Syncing run \u001b[33msolar-wood-1\u001b[0m\n",
            "\u001b[34m\u001b[1mwandb\u001b[0m: ⭐️ View project at \u001b[34m\u001b[4mhttps://wandb.ai/lancelotblanchard/colab\u001b[0m\n",
            "\u001b[34m\u001b[1mwandb\u001b[0m: 🚀 View run at \u001b[34m\u001b[4mhttps://wandb.ai/lancelotblanchard/colab/runs/a5cmax07\u001b[0m\n",
            "2025-02-22T18:13:21 - 0 - levanter.data.shard_cache - shard_cache.py:1030 - INFO :: Loading cache from cache/validation\n",
            "2025-02-22T18:13:21 - 0 - levanter.data.text - text.py:300 - INFO :: new cache format not found, trying to convert from old format\n",
            "2025-02-22T18:13:22 - 0 - levanter.data.text - text.py:309 - WARNING :: old cache format not found, creating new cache\n",
            "2025-02-22T18:13:22 - 0 - levanter.data.text - text.py:611 - INFO :: Building cache for validation...\n",
            "2025-02-22T18:13:22 - 0 - levanter.data.shard_cache - shard_cache.py:1030 - INFO :: Loading cache from cache/validation\n",
            "\u001b[36m(ChunkCacheBuilder pid=2997)\u001b[0m INFO:levanter.data.shard_cache:Starting cache build for 1 shards\n",
            "\u001b[36m(_produce_cache_for_shard pid=3225)\u001b[0m INFO:levanter.data.shard_cache:Starting shard tokenized-events-Train_txt\n",
            "\u001b[36m(_produce_cache_for_shard pid=3225)\u001b[0m INFO:levanter.data.shard_cache:Starting to get rows for shard tokenized-events-Train_txt\n",
            "2025-02-22T18:13:54 - 0 - preprocessing.validation - shard_cache.py:534 - INFO ::  done: Shards: 0 | Chunks: 1 | Docs: 98\n",
            "2025-02-22T18:13:54 - 0 - preprocessing.validation - shard_cache.py:534 - INFO ::  done: Shards: 1 | Chunks: 1 | Docs: 98\n",
            "2025-02-22T18:13:54 - 0 - preprocessing.validation - shard_cache.py:534 - INFO ::  done: Shards: 1 | Chunks: 1 | Docs: 98\n",
            "2025-02-22T18:13:54 - 0 - preprocessing.validation - shard_cache.py:541 - INFO :: Cache creation finished\n",
            "2025-02-22T18:13:54 - 0 - levanter.data.text - text.py:274 - INFO :: Cache cache/validation is complete.\n",
            "2025-02-22T18:13:54 - 0 - levanter.data.shard_cache - shard_cache.py:1030 - INFO :: Loading cache from cache/train\n",
            "2025-02-22T18:13:54 - 0 - levanter.data.text - text.py:300 - INFO :: new cache format not found, trying to convert from old format\n",
            "2025-02-22T18:13:54 - 0 - levanter.data.text - text.py:309 - WARNING :: old cache format not found, creating new cache\n",
            "2025-02-22T18:13:54 - 0 - levanter.data.text - text.py:611 - INFO :: Building cache for train...\n",
            "2025-02-22T18:13:54 - 0 - levanter.data.shard_cache - shard_cache.py:1030 - INFO :: Loading cache from cache/train\n",
            "\u001b[36m(ChunkCacheBroker pid=2998)\u001b[0m INFO:levanter.data.shard_cache:Finalizing cache cache/validation...\n",
            "2025-02-22T18:14:00 - 0 - levanter.data.text - text.py:276 - INFO :: Cache cache/train is incomplete. This will block until at least one chunk per process is complete.\n",
            "2025-02-22T18:14:00 - 0 - levanter.checkpoint - checkpoint.py:368 - WARNING :: No checkpoints found in /content/checkpoints/a5cmax07\n",
            "2025-02-22T18:14:02 - 0 - __main__ - train_lm.py:123 - INFO :: No training checkpoint found. Initializing model from HF checkpoint 'stanford-crfm/music-small-800k'\n",
            "pytorch_model.bin: 100% 512M/512M [00:06<00:00, 77.9MB/s]\n",
            "/content/levanterForAnticipation/src/levanter/compat/hf_checkpoints.py:400: FutureWarning: You are using `torch.load` with `weights_only=False` (the current default value), which uses the default pickle module implicitly. It is possible to construct malicious pickle data which will execute arbitrary code during unpickling (See https://github.com/pytorch/pytorch/blob/main/SECURITY.md#untrusted-models for more details). In a future release, the default value for `weights_only` will be flipped to `True`. This limits the functions that could be executed during unpickling. Arbitrary objects will no longer be allowed to be loaded via this mode unless they are explicitly allowlisted by the user via `torch.serialization.add_safe_globals`. We recommend you start setting `weights_only=True` for any use case where you don't have full control of the loaded file. Please open an issue on GitHub for any issues related to this experimental feature.\n",
            "  state_dict = torch.load(model_path, map_location=device)\n",
            "config.json: 100% 1.96k/1.96k [00:00<00:00, 3.18MB/s]\n",
            "\u001b[36m(ChunkCacheBuilder pid=3486)\u001b[0m INFO:levanter.data.shard_cache:Starting cache build for 1 shards\n",
            "\u001b[36m(_produce_cache_for_shard pid=3225)\u001b[0m INFO:levanter.data.shard_cache:Starting shard tokenized-events-Train_txt\n",
            "\u001b[36m(_produce_cache_for_shard pid=3225)\u001b[0m INFO:levanter.data.shard_cache:Starting to get rows for shard tokenized-events-Train_txt\n",
            "train:   0% 0/2001 [00:00<?, ?it/s]2025-02-22T18:14:20 - 0 - preprocessing.train - shard_cache.py:534 - INFO ::  done: Shards: 0 | Chunks: 1 | Docs: 98\n",
            "2025-02-22T18:14:20 - 0 - preprocessing.train - shard_cache.py:534 - INFO ::  done: Shards: 1 | Chunks: 1 | Docs: 98\n",
            "2025-02-22T18:14:20 - 0 - preprocessing.train - shard_cache.py:541 - INFO :: Cache creation finished\n",
            "\u001b[36m(ChunkCacheBroker pid=3349)\u001b[0m INFO:levanter.data.shard_cache:Finalizing cache cache/train...\n"
          ]
        }
      ],
      "source": [
        "!python -m levanter.main.train_lm --config_path /content/drive/MyDrive/anticipation/config/lakh_small.yaml"
      ]
    },
    {
      "cell_type": "code",
      "source": [],
      "metadata": {
        "id": "hc7btlJe5hUk"
      },
      "execution_count": null,
      "outputs": []
    }
  ],
  "metadata": {
    "accelerator": "GPU",
    "colab": {
      "collapsed_sections": [
        "-inZa7HxqNZ4",
        "RkpEzs8uo78v"
      ],
      "gpuType": "T4",
      "provenance": [],
      "machine_shape": "hm",
      "include_colab_link": true
    },
    "kernelspec": {
      "display_name": "Python 3",
      "name": "python3"
    },
    "language_info": {
      "name": "python"
    }
  },
  "nbformat": 4,
  "nbformat_minor": 0
}